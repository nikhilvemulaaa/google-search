{
  "nbformat": 4,
  "nbformat_minor": 0,
  "metadata": {
    "colab": {
      "provenance": [],
      "authorship_tag": "ABX9TyM17Oha3GXz2oISWqRXBl1W",
      "include_colab_link": true
    },
    "kernelspec": {
      "name": "python3",
      "display_name": "Python 3"
    },
    "language_info": {
      "name": "python"
    }
  },
  "cells": [
    {
      "cell_type": "markdown",
      "metadata": {
        "id": "view-in-github",
        "colab_type": "text"
      },
      "source": [
        "<a href=\"https://colab.research.google.com/github/nikhilvemulaaa/google-search/blob/main/Weather_Logger.ipynb\" target=\"_parent\"><img src=\"https://colab.research.google.com/assets/colab-badge.svg\" alt=\"Open In Colab\"/></a>"
      ]
    },
    {
      "cell_type": "code",
      "source": [
        "\"\"\"\n",
        "Record daily temperature readings then show summary stats.\n",
        "File: weather_logger.py\n",
        "\"\"\"\n",
        "import statistics\n",
        "import json\n",
        "from pathlib import Path\n",
        "\n",
        "DATA_FILE = Path(\"temps.json\")\n",
        "\n",
        "def load_data():\n",
        "    if DATA_FILE.exists():\n",
        "        return json.loads(DATA_FILE.read_text())\n",
        "    return []\n",
        "\n",
        "def save_data(data):\n",
        "    DATA_FILE.write_text(json.dumps(data))\n",
        "\n",
        "def log_temperature():\n",
        "    temp = float(input(\"Today's max temperature (°C): \"))\n",
        "    data = load_data()\n",
        "    data.append(temp)\n",
        "    save_data(data)\n",
        "    print(\"✓ saved!\")\n",
        "\n",
        "def show_report():\n",
        "    data = load_data()\n",
        "    if not data:\n",
        "        print(\"No data yet.\")\n",
        "        return\n",
        "    print(f\"Days logged: {len(data)}\")\n",
        "    print(f\"Average: {statistics.mean(data):.1f}°C\")\n",
        "    print(f\"Highest: {max(data)}°C,  Lowest: {min(data)}°C\")\n",
        "\n",
        "if __name__ == \"__main__\":\n",
        "    choice = input(\"[A]dd new reading   [R]eport  → \").lower()\n",
        "    (log_temperature if choice == \"a\" else show_report)()\n"
      ],
      "metadata": {
        "colab": {
          "base_uri": "https://localhost:8080/"
        },
        "id": "aP1HPywpmoyP",
        "outputId": "d5a15ac4-f49f-4a40-c9d2-d41e1f9cc4e5"
      },
      "execution_count": 6,
      "outputs": [
        {
          "output_type": "stream",
          "name": "stdout",
          "text": [
            "[A]dd new reading   [R]eport  → R\n",
            "Days logged: 2\n",
            "Average: 27.0°C\n",
            "Highest: 32.0°C,  Lowest: 22.0°C\n"
          ]
        }
      ]
    }
  ]
}